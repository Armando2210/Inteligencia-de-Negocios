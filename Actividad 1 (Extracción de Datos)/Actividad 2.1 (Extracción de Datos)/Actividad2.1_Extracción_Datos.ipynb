{
 "cells": [
  {
   "cell_type": "code",
   "execution_count": 1,
   "metadata": {},
   "outputs": [],
   "source": [
    "#importamos librerias requeridas\n",
    "import pandas as pd\n",
    "import numpy as np\n",
    "import matplotlib.pyplot as plt \n",
    "import seaborn as sns"
   ]
  },
  {
   "cell_type": "code",
   "execution_count": null,
   "metadata": {},
   "outputs": [],
   "source": [
    "#Carga desde un archivo .xlsx sin indice \n",
    "df= pd.read_excel('Detalle precios y productos fabricados 2022.xlsx')\n",
    "df"
   ]
  },
  {
   "cell_type": "code",
   "execution_count": null,
   "metadata": {},
   "outputs": [],
   "source": [
    "df1 = pd.read_excel('Detalle precios y productos fabricados 2022.xlsx', index_col=2)\n",
    "df1"
   ]
  },
  {
   "cell_type": "code",
   "execution_count": null,
   "metadata": {},
   "outputs": [],
   "source": [
    "#Verificamos información del dataframe \n",
    "df.info()"
   ]
  },
  {
   "cell_type": "markdown",
   "metadata": {},
   "source": [
    "**FILTROS DE LAS VARIABLES**"
   ]
  },
  {
   "cell_type": "code",
   "execution_count": null,
   "metadata": {},
   "outputs": [],
   "source": [
    "#Filtro por objetos\n",
    "filtro1 = df[(df[\"NOMBRE_CLIENTE\"] == \"PÚBLICO EN GENERAL\")]\n",
    "filtro1"
   ]
  },
  {
   "cell_type": "code",
   "execution_count": 66,
   "metadata": {},
   "outputs": [],
   "source": [
    "#Convertir archivo filtrado a csv\n",
    "filtro1.to_csv(\"Filtro1_Objeto.csv\")"
   ]
  },
  {
   "cell_type": "code",
   "execution_count": null,
   "metadata": {},
   "outputs": [],
   "source": [
    "#Filtro por filas \n",
    "filtro2 = df.iloc[ [10,22], :]\n",
    "filtro2"
   ]
  },
  {
   "cell_type": "code",
   "execution_count": 70,
   "metadata": {},
   "outputs": [],
   "source": [
    "#Convertir archivo filtrado a csv\n",
    "filtro2.to_csv(\"Filtro2_Filas.csv\")"
   ]
  },
  {
   "cell_type": "code",
   "execution_count": null,
   "metadata": {},
   "outputs": [],
   "source": [
    "#Filtro por columnas\n",
    "filtro3 = df.iloc[:, [4,6,7,11]]\n",
    "filtro3"
   ]
  },
  {
   "cell_type": "code",
   "execution_count": 72,
   "metadata": {},
   "outputs": [],
   "source": [
    "#Convertir archivo filtrado a csv\n",
    "filtro3.to_csv(\"Filtro3_Columnas.csv\")"
   ]
  },
  {
   "cell_type": "code",
   "execution_count": null,
   "metadata": {},
   "outputs": [],
   "source": [
    "#Paso 2: Aplicamos filtros de filas vs columnas \n",
    "Filtro4 = df1.loc[[\"LETICIA RAMIREZ HERNANDEZ\", \"ALFREDO CANELA\"], [\"CANT\"]]\n",
    "Filtro4\n",
    "#Nota. depende mucho de cual es la fila que se escogio como index"
   ]
  },
  {
   "cell_type": "code",
   "execution_count": 74,
   "metadata": {},
   "outputs": [],
   "source": [
    "#Convertir archivo filtrado a csv\n",
    "Filtro4.to_csv(\"Filtro4 filas vs columnas.csv\")"
   ]
  },
  {
   "cell_type": "code",
   "execution_count": null,
   "metadata": {},
   "outputs": [],
   "source": [
    "filtro5=df.head(3)\n",
    "filtro5\n",
    "#Devuelve las primeras cinco filas por defecto, o (n) filas si se especifica"
   ]
  },
  {
   "cell_type": "code",
   "execution_count": 76,
   "metadata": {},
   "outputs": [],
   "source": [
    "#Convertir archivo filtrado a csv\n",
    "filtro5.to_csv(\"Filtro5_head.csv\")"
   ]
  },
  {
   "cell_type": "code",
   "execution_count": null,
   "metadata": {},
   "outputs": [],
   "source": [
    "filtro6=df.tail()\n",
    "filtro6\n",
    "#Devuelve las últimas cinco filas por defecto, o (n) filas si se especifica"
   ]
  },
  {
   "cell_type": "code",
   "execution_count": 80,
   "metadata": {},
   "outputs": [],
   "source": [
    "#Convertir archivo filtrado a csv\n",
    "filtro6.to_csv(\"Filtro6_tail.csv\")"
   ]
  },
  {
   "cell_type": "markdown",
   "metadata": {},
   "source": [
    "**FILTROS BASICOS PARA VARIABLES CUANTITATIVAS**"
   ]
  },
  {
   "cell_type": "code",
   "execution_count": null,
   "metadata": {},
   "outputs": [],
   "source": [
    "#Filtro por comparación \n",
    "filtro7 = df[df[\"CANT\"] > 6]\n",
    "filtro7"
   ]
  },
  {
   "cell_type": "code",
   "execution_count": 82,
   "metadata": {},
   "outputs": [],
   "source": [
    "#Convertir archivo filtrado a csv\n",
    "filtro7.to_csv(\"Filtro7_Comparación.csv\")"
   ]
  },
  {
   "cell_type": "markdown",
   "metadata": {},
   "source": [
    "**FILTROS BASICOS CON CONECTORES LOGICOS**"
   ]
  },
  {
   "cell_type": "code",
   "execution_count": null,
   "metadata": {},
   "outputs": [],
   "source": [
    "#Filtro Y\n",
    "filtro8 = df[(df[\"CVE_ART\"] == \"TUE00207\") & (df[\"COSTO_UNITARIO\"] < 1000)]\n",
    "filtro8\n",
    "#Hay que tener cuidado con el tipo dato que sea"
   ]
  },
  {
   "cell_type": "code",
   "execution_count": 84,
   "metadata": {},
   "outputs": [],
   "source": [
    "#Convertir archivo filtrado a csv\n",
    "filtro8.to_csv(\"Filtro8_Operador_AND.csv\")"
   ]
  },
  {
   "cell_type": "code",
   "execution_count": null,
   "metadata": {},
   "outputs": [],
   "source": [
    "#FILTRO O\n",
    "#filtro9 = df[(df[\"CVE_ART\"] == \"TUE00207\") | (df[\"CANT\"] < 3)]\n",
    "filtro9 = df[(df[\"FECHA_DOC\"] == \"05/01/2022\") | (df[\"CVE_ART\"] == \"TUE00207\")]\n",
    "filtro9"
   ]
  },
  {
   "cell_type": "code",
   "execution_count": 85,
   "metadata": {},
   "outputs": [],
   "source": [
    "#Convertir archivo filtrado a csv\n",
    "filtro9.to_csv(\"Filtro9_Operador_OR.csv\")"
   ]
  },
  {
   "cell_type": "code",
   "execution_count": null,
   "metadata": {},
   "outputs": [],
   "source": [
    "#Filtro not\n",
    "filtro10 = df[~(df[\"COSTO_TOTAL_CALCULADO\"] > 150)]\n",
    "filtro10\n",
    "#Si la condición es verdadera, la convierte en falsa, y viceversa."
   ]
  },
  {
   "cell_type": "code",
   "execution_count": 88,
   "metadata": {},
   "outputs": [],
   "source": [
    "#Convertir archivo filtrado a csv\n",
    "filtro10.to_csv(\"Filtro10_Filtro_NOT.csv\")"
   ]
  }
 ],
 "metadata": {
  "kernelspec": {
   "display_name": "Python 3",
   "language": "python",
   "name": "python3"
  },
  "language_info": {
   "codemirror_mode": {
    "name": "ipython",
    "version": 3
   },
   "file_extension": ".py",
   "mimetype": "text/x-python",
   "name": "python",
   "nbconvert_exporter": "python",
   "pygments_lexer": "ipython3",
   "version": "3.12.6"
  }
 },
 "nbformat": 4,
 "nbformat_minor": 2
}
